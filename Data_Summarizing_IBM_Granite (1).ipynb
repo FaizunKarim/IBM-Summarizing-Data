{
  "nbformat": 4,
  "nbformat_minor": 0,
  "metadata": {
    "colab": {
      "provenance": []
    },
    "kernelspec": {
      "name": "python3",
      "display_name": "Python 3"
    },
    "language_info": {
      "name": "python"
    }
  },
  "cells": [
    {
      "cell_type": "markdown",
      "source": [
        "## Visualisasi dan Summary Data Covid Menggunakan IBM Granite"
      ],
      "metadata": {
        "id": "k0xk1GCCW_Pu"
      }
    },
    {
      "cell_type": "markdown",
      "source": [
        "## Install dan Import Library"
      ],
      "metadata": {
        "id": "b7AJPZ2pXRyE"
      }
    },
    {
      "cell_type": "code",
      "execution_count": 50,
      "metadata": {
        "colab": {
          "base_uri": "https://localhost:8080/"
        },
        "id": "YH1FZ-RtTK1t",
        "outputId": "b512711d-f79b-4af5-f118-6c4ef1511d42"
      },
      "outputs": [
        {
          "output_type": "stream",
          "name": "stdout",
          "text": [
            "Requirement already satisfied: langchain_community in /usr/local/lib/python3.12/dist-packages (0.3.30)\n",
            "Requirement already satisfied: langchain-core<2.0.0,>=0.3.75 in /usr/local/lib/python3.12/dist-packages (from langchain_community) (0.3.77)\n",
            "Requirement already satisfied: langchain<2.0.0,>=0.3.27 in /usr/local/lib/python3.12/dist-packages (from langchain_community) (0.3.27)\n",
            "Requirement already satisfied: SQLAlchemy<3.0.0,>=1.4.0 in /usr/local/lib/python3.12/dist-packages (from langchain_community) (2.0.43)\n",
            "Requirement already satisfied: requests<3.0.0,>=2.32.5 in /usr/local/lib/python3.12/dist-packages (from langchain_community) (2.32.5)\n",
            "Requirement already satisfied: PyYAML<7.0.0,>=5.3.0 in /usr/local/lib/python3.12/dist-packages (from langchain_community) (6.0.3)\n",
            "Requirement already satisfied: aiohttp<4.0.0,>=3.8.3 in /usr/local/lib/python3.12/dist-packages (from langchain_community) (3.12.15)\n",
            "Requirement already satisfied: tenacity!=8.4.0,<10.0.0,>=8.1.0 in /usr/local/lib/python3.12/dist-packages (from langchain_community) (8.5.0)\n",
            "Requirement already satisfied: dataclasses-json<0.7.0,>=0.6.7 in /usr/local/lib/python3.12/dist-packages (from langchain_community) (0.6.7)\n",
            "Requirement already satisfied: pydantic-settings<3.0.0,>=2.10.1 in /usr/local/lib/python3.12/dist-packages (from langchain_community) (2.11.0)\n",
            "Requirement already satisfied: langsmith<1.0.0,>=0.1.125 in /usr/local/lib/python3.12/dist-packages (from langchain_community) (0.4.31)\n",
            "Requirement already satisfied: httpx-sse<1.0.0,>=0.4.0 in /usr/local/lib/python3.12/dist-packages (from langchain_community) (0.4.1)\n",
            "Requirement already satisfied: numpy>=1.26.2 in /usr/local/lib/python3.12/dist-packages (from langchain_community) (2.0.2)\n",
            "Requirement already satisfied: aiohappyeyeballs>=2.5.0 in /usr/local/lib/python3.12/dist-packages (from aiohttp<4.0.0,>=3.8.3->langchain_community) (2.6.1)\n",
            "Requirement already satisfied: aiosignal>=1.4.0 in /usr/local/lib/python3.12/dist-packages (from aiohttp<4.0.0,>=3.8.3->langchain_community) (1.4.0)\n",
            "Requirement already satisfied: attrs>=17.3.0 in /usr/local/lib/python3.12/dist-packages (from aiohttp<4.0.0,>=3.8.3->langchain_community) (25.3.0)\n",
            "Requirement already satisfied: frozenlist>=1.1.1 in /usr/local/lib/python3.12/dist-packages (from aiohttp<4.0.0,>=3.8.3->langchain_community) (1.7.0)\n",
            "Requirement already satisfied: multidict<7.0,>=4.5 in /usr/local/lib/python3.12/dist-packages (from aiohttp<4.0.0,>=3.8.3->langchain_community) (6.6.4)\n",
            "Requirement already satisfied: propcache>=0.2.0 in /usr/local/lib/python3.12/dist-packages (from aiohttp<4.0.0,>=3.8.3->langchain_community) (0.3.2)\n",
            "Requirement already satisfied: yarl<2.0,>=1.17.0 in /usr/local/lib/python3.12/dist-packages (from aiohttp<4.0.0,>=3.8.3->langchain_community) (1.20.1)\n",
            "Requirement already satisfied: marshmallow<4.0.0,>=3.18.0 in /usr/local/lib/python3.12/dist-packages (from dataclasses-json<0.7.0,>=0.6.7->langchain_community) (3.26.1)\n",
            "Requirement already satisfied: typing-inspect<1,>=0.4.0 in /usr/local/lib/python3.12/dist-packages (from dataclasses-json<0.7.0,>=0.6.7->langchain_community) (0.9.0)\n",
            "Requirement already satisfied: langchain-text-splitters<1.0.0,>=0.3.9 in /usr/local/lib/python3.12/dist-packages (from langchain<2.0.0,>=0.3.27->langchain_community) (0.3.11)\n",
            "Requirement already satisfied: pydantic<3.0.0,>=2.7.4 in /usr/local/lib/python3.12/dist-packages (from langchain<2.0.0,>=0.3.27->langchain_community) (2.11.9)\n",
            "Requirement already satisfied: jsonpatch<2.0.0,>=1.33.0 in /usr/local/lib/python3.12/dist-packages (from langchain-core<2.0.0,>=0.3.75->langchain_community) (1.33)\n",
            "Requirement already satisfied: typing-extensions<5.0.0,>=4.7.0 in /usr/local/lib/python3.12/dist-packages (from langchain-core<2.0.0,>=0.3.75->langchain_community) (4.15.0)\n",
            "Requirement already satisfied: packaging<26.0.0,>=23.2.0 in /usr/local/lib/python3.12/dist-packages (from langchain-core<2.0.0,>=0.3.75->langchain_community) (25.0)\n",
            "Requirement already satisfied: httpx<1,>=0.23.0 in /usr/local/lib/python3.12/dist-packages (from langsmith<1.0.0,>=0.1.125->langchain_community) (0.28.1)\n",
            "Requirement already satisfied: orjson>=3.9.14 in /usr/local/lib/python3.12/dist-packages (from langsmith<1.0.0,>=0.1.125->langchain_community) (3.11.3)\n",
            "Requirement already satisfied: requests-toolbelt>=1.0.0 in /usr/local/lib/python3.12/dist-packages (from langsmith<1.0.0,>=0.1.125->langchain_community) (1.0.0)\n",
            "Requirement already satisfied: zstandard>=0.23.0 in /usr/local/lib/python3.12/dist-packages (from langsmith<1.0.0,>=0.1.125->langchain_community) (0.25.0)\n",
            "Requirement already satisfied: python-dotenv>=0.21.0 in /usr/local/lib/python3.12/dist-packages (from pydantic-settings<3.0.0,>=2.10.1->langchain_community) (1.1.1)\n",
            "Requirement already satisfied: typing-inspection>=0.4.0 in /usr/local/lib/python3.12/dist-packages (from pydantic-settings<3.0.0,>=2.10.1->langchain_community) (0.4.2)\n",
            "Requirement already satisfied: charset_normalizer<4,>=2 in /usr/local/lib/python3.12/dist-packages (from requests<3.0.0,>=2.32.5->langchain_community) (3.4.3)\n",
            "Requirement already satisfied: idna<4,>=2.5 in /usr/local/lib/python3.12/dist-packages (from requests<3.0.0,>=2.32.5->langchain_community) (3.10)\n",
            "Requirement already satisfied: urllib3<3,>=1.21.1 in /usr/local/lib/python3.12/dist-packages (from requests<3.0.0,>=2.32.5->langchain_community) (2.5.0)\n",
            "Requirement already satisfied: certifi>=2017.4.17 in /usr/local/lib/python3.12/dist-packages (from requests<3.0.0,>=2.32.5->langchain_community) (2025.8.3)\n",
            "Requirement already satisfied: greenlet>=1 in /usr/local/lib/python3.12/dist-packages (from SQLAlchemy<3.0.0,>=1.4.0->langchain_community) (3.2.4)\n",
            "Requirement already satisfied: anyio in /usr/local/lib/python3.12/dist-packages (from httpx<1,>=0.23.0->langsmith<1.0.0,>=0.1.125->langchain_community) (4.11.0)\n",
            "Requirement already satisfied: httpcore==1.* in /usr/local/lib/python3.12/dist-packages (from httpx<1,>=0.23.0->langsmith<1.0.0,>=0.1.125->langchain_community) (1.0.9)\n",
            "Requirement already satisfied: h11>=0.16 in /usr/local/lib/python3.12/dist-packages (from httpcore==1.*->httpx<1,>=0.23.0->langsmith<1.0.0,>=0.1.125->langchain_community) (0.16.0)\n",
            "Requirement already satisfied: jsonpointer>=1.9 in /usr/local/lib/python3.12/dist-packages (from jsonpatch<2.0.0,>=1.33.0->langchain-core<2.0.0,>=0.3.75->langchain_community) (3.0.0)\n",
            "Requirement already satisfied: annotated-types>=0.6.0 in /usr/local/lib/python3.12/dist-packages (from pydantic<3.0.0,>=2.7.4->langchain<2.0.0,>=0.3.27->langchain_community) (0.7.0)\n",
            "Requirement already satisfied: pydantic-core==2.33.2 in /usr/local/lib/python3.12/dist-packages (from pydantic<3.0.0,>=2.7.4->langchain<2.0.0,>=0.3.27->langchain_community) (2.33.2)\n",
            "Requirement already satisfied: mypy-extensions>=0.3.0 in /usr/local/lib/python3.12/dist-packages (from typing-inspect<1,>=0.4.0->dataclasses-json<0.7.0,>=0.6.7->langchain_community) (1.1.0)\n",
            "Requirement already satisfied: sniffio>=1.1 in /usr/local/lib/python3.12/dist-packages (from anyio->httpx<1,>=0.23.0->langsmith<1.0.0,>=0.1.125->langchain_community) (1.3.1)\n",
            "Requirement already satisfied: replicate in /usr/local/lib/python3.12/dist-packages (1.0.7)\n",
            "Requirement already satisfied: httpx<1,>=0.21.0 in /usr/local/lib/python3.12/dist-packages (from replicate) (0.28.1)\n",
            "Requirement already satisfied: packaging in /usr/local/lib/python3.12/dist-packages (from replicate) (25.0)\n",
            "Requirement already satisfied: pydantic>1.10.7 in /usr/local/lib/python3.12/dist-packages (from replicate) (2.11.9)\n",
            "Requirement already satisfied: typing_extensions>=4.5.0 in /usr/local/lib/python3.12/dist-packages (from replicate) (4.15.0)\n",
            "Requirement already satisfied: anyio in /usr/local/lib/python3.12/dist-packages (from httpx<1,>=0.21.0->replicate) (4.11.0)\n",
            "Requirement already satisfied: certifi in /usr/local/lib/python3.12/dist-packages (from httpx<1,>=0.21.0->replicate) (2025.8.3)\n",
            "Requirement already satisfied: httpcore==1.* in /usr/local/lib/python3.12/dist-packages (from httpx<1,>=0.21.0->replicate) (1.0.9)\n",
            "Requirement already satisfied: idna in /usr/local/lib/python3.12/dist-packages (from httpx<1,>=0.21.0->replicate) (3.10)\n",
            "Requirement already satisfied: h11>=0.16 in /usr/local/lib/python3.12/dist-packages (from httpcore==1.*->httpx<1,>=0.21.0->replicate) (0.16.0)\n",
            "Requirement already satisfied: annotated-types>=0.6.0 in /usr/local/lib/python3.12/dist-packages (from pydantic>1.10.7->replicate) (0.7.0)\n",
            "Requirement already satisfied: pydantic-core==2.33.2 in /usr/local/lib/python3.12/dist-packages (from pydantic>1.10.7->replicate) (2.33.2)\n",
            "Requirement already satisfied: typing-inspection>=0.4.0 in /usr/local/lib/python3.12/dist-packages (from pydantic>1.10.7->replicate) (0.4.2)\n",
            "Requirement already satisfied: sniffio>=1.1 in /usr/local/lib/python3.12/dist-packages (from anyio->httpx<1,>=0.21.0->replicate) (1.3.1)\n"
          ]
        }
      ],
      "source": [
        "!pip install langchain_community\n",
        "!pip install replicate"
      ]
    },
    {
      "cell_type": "code",
      "source": [
        "import kagglehub\n",
        "import os\n",
        "import pandas as pd\n",
        "import numpy as np\n",
        "import matplotlib.pyplot as plt\n",
        "import matplotlib.dates as mdates\n",
        "import seaborn as sns\n",
        "sns.set_style(\"whitegrid\")\n",
        "from langchain_community.llms import Replicate\n",
        "from google.colab import userdata"
      ],
      "metadata": {
        "id": "cyJTfXnnVD5Q"
      },
      "execution_count": 51,
      "outputs": []
    },
    {
      "cell_type": "code",
      "source": [
        "# Download latest version\n",
        "path = kagglehub.dataset_download(\"adilshamim8/worldwide-covid-19-data-from-who\")\n",
        "\n",
        "print(\"Path to dataset files:\", path)"
      ],
      "metadata": {
        "colab": {
          "base_uri": "https://localhost:8080/"
        },
        "id": "W-X9tpukTgqw",
        "outputId": "10cc5782-acf8-40b8-a054-1c2f9da97b8a"
      },
      "execution_count": 52,
      "outputs": [
        {
          "output_type": "stream",
          "name": "stdout",
          "text": [
            "Using Colab cache for faster access to the 'worldwide-covid-19-data-from-who' dataset.\n",
            "Path to dataset files: /kaggle/input/worldwide-covid-19-data-from-who\n"
          ]
        }
      ]
    },
    {
      "cell_type": "code",
      "source": [
        "os.listdir('/root/.cache/kagglehub/datasets/adilshamim8/worldwide-covid-19-data-from-who/versions/30')"
      ],
      "metadata": {
        "colab": {
          "base_uri": "https://localhost:8080/"
        },
        "id": "KuRgbR_zUuPJ",
        "outputId": "7630ce12-2675-480f-eea3-710775270010"
      },
      "execution_count": 53,
      "outputs": [
        {
          "output_type": "execute_result",
          "data": {
            "text/plain": [
              "['WHO-COVID-19-global-daily-data.csv', 'WHO-COVID-19-global-data.csv']"
            ]
          },
          "metadata": {},
          "execution_count": 53
        }
      ]
    },
    {
      "cell_type": "markdown",
      "source": [
        "## Preparing Data"
      ],
      "metadata": {
        "id": "_f9fffpHXtNo"
      }
    },
    {
      "cell_type": "code",
      "source": [
        "file_path = '/root/.cache/kagglehub/datasets/adilshamim8/worldwide-covid-19-data-from-who/versions/30/WHO-COVID-19-global-data.csv'\n",
        "df = pd.read_csv(file_path)"
      ],
      "metadata": {
        "id": "yV3LX31dXahj"
      },
      "execution_count": 54,
      "outputs": []
    },
    {
      "cell_type": "code",
      "source": [
        "indonesia_df = df[df['Country'] == 'Indonesia']\n",
        "dataframe = indonesia_df\n",
        "dataframe = dataframe.sort_values(by='Date_reported')\n",
        "dataframe"
      ],
      "metadata": {
        "colab": {
          "base_uri": "https://localhost:8080/",
          "height": 423
        },
        "id": "fH2pGoWVVyOS",
        "outputId": "a14760cc-62ec-4f03-e034-1734dfd53864"
      },
      "execution_count": 55,
      "outputs": [
        {
          "output_type": "execute_result",
          "data": {
            "text/plain": [
              "      Date_reported Country_code    Country WHO_region  New_cases  \\\n",
              "29802    2020-01-05           ID  Indonesia      SEARO        0.0   \n",
              "29803    2020-01-12           ID  Indonesia      SEARO        0.0   \n",
              "29804    2020-01-19           ID  Indonesia      SEARO        0.0   \n",
              "29805    2020-01-26           ID  Indonesia      SEARO        0.0   \n",
              "29806    2020-02-02           ID  Indonesia      SEARO        0.0   \n",
              "...             ...          ...        ...        ...        ...   \n",
              "32059    2025-08-17           ID  Indonesia      SEARO        NaN   \n",
              "32060    2025-08-24           ID  Indonesia      SEARO        NaN   \n",
              "32061    2025-08-31           ID  Indonesia      SEARO        NaN   \n",
              "32186    2025-09-07           ID  Indonesia      SEARO        NaN   \n",
              "32187    2025-09-14           ID  Indonesia      SEARO        NaN   \n",
              "\n",
              "       Cumulative_cases  New_deaths  Cumulative_deaths  \n",
              "29802                 0         0.0                  0  \n",
              "29803                 0         0.0                  0  \n",
              "29804                 0         0.0                  0  \n",
              "29805                 0         0.0                  0  \n",
              "29806                 0         0.0                  0  \n",
              "...                 ...         ...                ...  \n",
              "32059           6830274         NaN             162059  \n",
              "32060           6830274         NaN             162059  \n",
              "32061           6830274         NaN             162059  \n",
              "32186           6830274         NaN             162059  \n",
              "32187           6830274         NaN             162059  \n",
              "\n",
              "[298 rows x 8 columns]"
            ],
            "text/html": [
              "\n",
              "  <div id=\"df-72c69a42-0617-4925-bc7a-7ff28ad58054\" class=\"colab-df-container\">\n",
              "    <div>\n",
              "<style scoped>\n",
              "    .dataframe tbody tr th:only-of-type {\n",
              "        vertical-align: middle;\n",
              "    }\n",
              "\n",
              "    .dataframe tbody tr th {\n",
              "        vertical-align: top;\n",
              "    }\n",
              "\n",
              "    .dataframe thead th {\n",
              "        text-align: right;\n",
              "    }\n",
              "</style>\n",
              "<table border=\"1\" class=\"dataframe\">\n",
              "  <thead>\n",
              "    <tr style=\"text-align: right;\">\n",
              "      <th></th>\n",
              "      <th>Date_reported</th>\n",
              "      <th>Country_code</th>\n",
              "      <th>Country</th>\n",
              "      <th>WHO_region</th>\n",
              "      <th>New_cases</th>\n",
              "      <th>Cumulative_cases</th>\n",
              "      <th>New_deaths</th>\n",
              "      <th>Cumulative_deaths</th>\n",
              "    </tr>\n",
              "  </thead>\n",
              "  <tbody>\n",
              "    <tr>\n",
              "      <th>29802</th>\n",
              "      <td>2020-01-05</td>\n",
              "      <td>ID</td>\n",
              "      <td>Indonesia</td>\n",
              "      <td>SEARO</td>\n",
              "      <td>0.0</td>\n",
              "      <td>0</td>\n",
              "      <td>0.0</td>\n",
              "      <td>0</td>\n",
              "    </tr>\n",
              "    <tr>\n",
              "      <th>29803</th>\n",
              "      <td>2020-01-12</td>\n",
              "      <td>ID</td>\n",
              "      <td>Indonesia</td>\n",
              "      <td>SEARO</td>\n",
              "      <td>0.0</td>\n",
              "      <td>0</td>\n",
              "      <td>0.0</td>\n",
              "      <td>0</td>\n",
              "    </tr>\n",
              "    <tr>\n",
              "      <th>29804</th>\n",
              "      <td>2020-01-19</td>\n",
              "      <td>ID</td>\n",
              "      <td>Indonesia</td>\n",
              "      <td>SEARO</td>\n",
              "      <td>0.0</td>\n",
              "      <td>0</td>\n",
              "      <td>0.0</td>\n",
              "      <td>0</td>\n",
              "    </tr>\n",
              "    <tr>\n",
              "      <th>29805</th>\n",
              "      <td>2020-01-26</td>\n",
              "      <td>ID</td>\n",
              "      <td>Indonesia</td>\n",
              "      <td>SEARO</td>\n",
              "      <td>0.0</td>\n",
              "      <td>0</td>\n",
              "      <td>0.0</td>\n",
              "      <td>0</td>\n",
              "    </tr>\n",
              "    <tr>\n",
              "      <th>29806</th>\n",
              "      <td>2020-02-02</td>\n",
              "      <td>ID</td>\n",
              "      <td>Indonesia</td>\n",
              "      <td>SEARO</td>\n",
              "      <td>0.0</td>\n",
              "      <td>0</td>\n",
              "      <td>0.0</td>\n",
              "      <td>0</td>\n",
              "    </tr>\n",
              "    <tr>\n",
              "      <th>...</th>\n",
              "      <td>...</td>\n",
              "      <td>...</td>\n",
              "      <td>...</td>\n",
              "      <td>...</td>\n",
              "      <td>...</td>\n",
              "      <td>...</td>\n",
              "      <td>...</td>\n",
              "      <td>...</td>\n",
              "    </tr>\n",
              "    <tr>\n",
              "      <th>32059</th>\n",
              "      <td>2025-08-17</td>\n",
              "      <td>ID</td>\n",
              "      <td>Indonesia</td>\n",
              "      <td>SEARO</td>\n",
              "      <td>NaN</td>\n",
              "      <td>6830274</td>\n",
              "      <td>NaN</td>\n",
              "      <td>162059</td>\n",
              "    </tr>\n",
              "    <tr>\n",
              "      <th>32060</th>\n",
              "      <td>2025-08-24</td>\n",
              "      <td>ID</td>\n",
              "      <td>Indonesia</td>\n",
              "      <td>SEARO</td>\n",
              "      <td>NaN</td>\n",
              "      <td>6830274</td>\n",
              "      <td>NaN</td>\n",
              "      <td>162059</td>\n",
              "    </tr>\n",
              "    <tr>\n",
              "      <th>32061</th>\n",
              "      <td>2025-08-31</td>\n",
              "      <td>ID</td>\n",
              "      <td>Indonesia</td>\n",
              "      <td>SEARO</td>\n",
              "      <td>NaN</td>\n",
              "      <td>6830274</td>\n",
              "      <td>NaN</td>\n",
              "      <td>162059</td>\n",
              "    </tr>\n",
              "    <tr>\n",
              "      <th>32186</th>\n",
              "      <td>2025-09-07</td>\n",
              "      <td>ID</td>\n",
              "      <td>Indonesia</td>\n",
              "      <td>SEARO</td>\n",
              "      <td>NaN</td>\n",
              "      <td>6830274</td>\n",
              "      <td>NaN</td>\n",
              "      <td>162059</td>\n",
              "    </tr>\n",
              "    <tr>\n",
              "      <th>32187</th>\n",
              "      <td>2025-09-14</td>\n",
              "      <td>ID</td>\n",
              "      <td>Indonesia</td>\n",
              "      <td>SEARO</td>\n",
              "      <td>NaN</td>\n",
              "      <td>6830274</td>\n",
              "      <td>NaN</td>\n",
              "      <td>162059</td>\n",
              "    </tr>\n",
              "  </tbody>\n",
              "</table>\n",
              "<p>298 rows × 8 columns</p>\n",
              "</div>\n",
              "    <div class=\"colab-df-buttons\">\n",
              "\n",
              "  <div class=\"colab-df-container\">\n",
              "    <button class=\"colab-df-convert\" onclick=\"convertToInteractive('df-72c69a42-0617-4925-bc7a-7ff28ad58054')\"\n",
              "            title=\"Convert this dataframe to an interactive table.\"\n",
              "            style=\"display:none;\">\n",
              "\n",
              "  <svg xmlns=\"http://www.w3.org/2000/svg\" height=\"24px\" viewBox=\"0 -960 960 960\">\n",
              "    <path d=\"M120-120v-720h720v720H120Zm60-500h600v-160H180v160Zm220 220h160v-160H400v160Zm0 220h160v-160H400v160ZM180-400h160v-160H180v160Zm440 0h160v-160H620v160ZM180-180h160v-160H180v160Zm440 0h160v-160H620v160Z\"/>\n",
              "  </svg>\n",
              "    </button>\n",
              "\n",
              "  <style>\n",
              "    .colab-df-container {\n",
              "      display:flex;\n",
              "      gap: 12px;\n",
              "    }\n",
              "\n",
              "    .colab-df-convert {\n",
              "      background-color: #E8F0FE;\n",
              "      border: none;\n",
              "      border-radius: 50%;\n",
              "      cursor: pointer;\n",
              "      display: none;\n",
              "      fill: #1967D2;\n",
              "      height: 32px;\n",
              "      padding: 0 0 0 0;\n",
              "      width: 32px;\n",
              "    }\n",
              "\n",
              "    .colab-df-convert:hover {\n",
              "      background-color: #E2EBFA;\n",
              "      box-shadow: 0px 1px 2px rgba(60, 64, 67, 0.3), 0px 1px 3px 1px rgba(60, 64, 67, 0.15);\n",
              "      fill: #174EA6;\n",
              "    }\n",
              "\n",
              "    .colab-df-buttons div {\n",
              "      margin-bottom: 4px;\n",
              "    }\n",
              "\n",
              "    [theme=dark] .colab-df-convert {\n",
              "      background-color: #3B4455;\n",
              "      fill: #D2E3FC;\n",
              "    }\n",
              "\n",
              "    [theme=dark] .colab-df-convert:hover {\n",
              "      background-color: #434B5C;\n",
              "      box-shadow: 0px 1px 3px 1px rgba(0, 0, 0, 0.15);\n",
              "      filter: drop-shadow(0px 1px 2px rgba(0, 0, 0, 0.3));\n",
              "      fill: #FFFFFF;\n",
              "    }\n",
              "  </style>\n",
              "\n",
              "    <script>\n",
              "      const buttonEl =\n",
              "        document.querySelector('#df-72c69a42-0617-4925-bc7a-7ff28ad58054 button.colab-df-convert');\n",
              "      buttonEl.style.display =\n",
              "        google.colab.kernel.accessAllowed ? 'block' : 'none';\n",
              "\n",
              "      async function convertToInteractive(key) {\n",
              "        const element = document.querySelector('#df-72c69a42-0617-4925-bc7a-7ff28ad58054');\n",
              "        const dataTable =\n",
              "          await google.colab.kernel.invokeFunction('convertToInteractive',\n",
              "                                                    [key], {});\n",
              "        if (!dataTable) return;\n",
              "\n",
              "        const docLinkHtml = 'Like what you see? Visit the ' +\n",
              "          '<a target=\"_blank\" href=https://colab.research.google.com/notebooks/data_table.ipynb>data table notebook</a>'\n",
              "          + ' to learn more about interactive tables.';\n",
              "        element.innerHTML = '';\n",
              "        dataTable['output_type'] = 'display_data';\n",
              "        await google.colab.output.renderOutput(dataTable, element);\n",
              "        const docLink = document.createElement('div');\n",
              "        docLink.innerHTML = docLinkHtml;\n",
              "        element.appendChild(docLink);\n",
              "      }\n",
              "    </script>\n",
              "  </div>\n",
              "\n",
              "\n",
              "    <div id=\"df-34c35fb7-f872-40a3-b299-edbab7c4e15b\">\n",
              "      <button class=\"colab-df-quickchart\" onclick=\"quickchart('df-34c35fb7-f872-40a3-b299-edbab7c4e15b')\"\n",
              "                title=\"Suggest charts\"\n",
              "                style=\"display:none;\">\n",
              "\n",
              "<svg xmlns=\"http://www.w3.org/2000/svg\" height=\"24px\"viewBox=\"0 0 24 24\"\n",
              "     width=\"24px\">\n",
              "    <g>\n",
              "        <path d=\"M19 3H5c-1.1 0-2 .9-2 2v14c0 1.1.9 2 2 2h14c1.1 0 2-.9 2-2V5c0-1.1-.9-2-2-2zM9 17H7v-7h2v7zm4 0h-2V7h2v10zm4 0h-2v-4h2v4z\"/>\n",
              "    </g>\n",
              "</svg>\n",
              "      </button>\n",
              "\n",
              "<style>\n",
              "  .colab-df-quickchart {\n",
              "      --bg-color: #E8F0FE;\n",
              "      --fill-color: #1967D2;\n",
              "      --hover-bg-color: #E2EBFA;\n",
              "      --hover-fill-color: #174EA6;\n",
              "      --disabled-fill-color: #AAA;\n",
              "      --disabled-bg-color: #DDD;\n",
              "  }\n",
              "\n",
              "  [theme=dark] .colab-df-quickchart {\n",
              "      --bg-color: #3B4455;\n",
              "      --fill-color: #D2E3FC;\n",
              "      --hover-bg-color: #434B5C;\n",
              "      --hover-fill-color: #FFFFFF;\n",
              "      --disabled-bg-color: #3B4455;\n",
              "      --disabled-fill-color: #666;\n",
              "  }\n",
              "\n",
              "  .colab-df-quickchart {\n",
              "    background-color: var(--bg-color);\n",
              "    border: none;\n",
              "    border-radius: 50%;\n",
              "    cursor: pointer;\n",
              "    display: none;\n",
              "    fill: var(--fill-color);\n",
              "    height: 32px;\n",
              "    padding: 0;\n",
              "    width: 32px;\n",
              "  }\n",
              "\n",
              "  .colab-df-quickchart:hover {\n",
              "    background-color: var(--hover-bg-color);\n",
              "    box-shadow: 0 1px 2px rgba(60, 64, 67, 0.3), 0 1px 3px 1px rgba(60, 64, 67, 0.15);\n",
              "    fill: var(--button-hover-fill-color);\n",
              "  }\n",
              "\n",
              "  .colab-df-quickchart-complete:disabled,\n",
              "  .colab-df-quickchart-complete:disabled:hover {\n",
              "    background-color: var(--disabled-bg-color);\n",
              "    fill: var(--disabled-fill-color);\n",
              "    box-shadow: none;\n",
              "  }\n",
              "\n",
              "  .colab-df-spinner {\n",
              "    border: 2px solid var(--fill-color);\n",
              "    border-color: transparent;\n",
              "    border-bottom-color: var(--fill-color);\n",
              "    animation:\n",
              "      spin 1s steps(1) infinite;\n",
              "  }\n",
              "\n",
              "  @keyframes spin {\n",
              "    0% {\n",
              "      border-color: transparent;\n",
              "      border-bottom-color: var(--fill-color);\n",
              "      border-left-color: var(--fill-color);\n",
              "    }\n",
              "    20% {\n",
              "      border-color: transparent;\n",
              "      border-left-color: var(--fill-color);\n",
              "      border-top-color: var(--fill-color);\n",
              "    }\n",
              "    30% {\n",
              "      border-color: transparent;\n",
              "      border-left-color: var(--fill-color);\n",
              "      border-top-color: var(--fill-color);\n",
              "      border-right-color: var(--fill-color);\n",
              "    }\n",
              "    40% {\n",
              "      border-color: transparent;\n",
              "      border-right-color: var(--fill-color);\n",
              "      border-top-color: var(--fill-color);\n",
              "    }\n",
              "    60% {\n",
              "      border-color: transparent;\n",
              "      border-right-color: var(--fill-color);\n",
              "    }\n",
              "    80% {\n",
              "      border-color: transparent;\n",
              "      border-right-color: var(--fill-color);\n",
              "      border-bottom-color: var(--fill-color);\n",
              "    }\n",
              "    90% {\n",
              "      border-color: transparent;\n",
              "      border-bottom-color: var(--fill-color);\n",
              "    }\n",
              "  }\n",
              "</style>\n",
              "\n",
              "      <script>\n",
              "        async function quickchart(key) {\n",
              "          const quickchartButtonEl =\n",
              "            document.querySelector('#' + key + ' button');\n",
              "          quickchartButtonEl.disabled = true;  // To prevent multiple clicks.\n",
              "          quickchartButtonEl.classList.add('colab-df-spinner');\n",
              "          try {\n",
              "            const charts = await google.colab.kernel.invokeFunction(\n",
              "                'suggestCharts', [key], {});\n",
              "          } catch (error) {\n",
              "            console.error('Error during call to suggestCharts:', error);\n",
              "          }\n",
              "          quickchartButtonEl.classList.remove('colab-df-spinner');\n",
              "          quickchartButtonEl.classList.add('colab-df-quickchart-complete');\n",
              "        }\n",
              "        (() => {\n",
              "          let quickchartButtonEl =\n",
              "            document.querySelector('#df-34c35fb7-f872-40a3-b299-edbab7c4e15b button');\n",
              "          quickchartButtonEl.style.display =\n",
              "            google.colab.kernel.accessAllowed ? 'block' : 'none';\n",
              "        })();\n",
              "      </script>\n",
              "    </div>\n",
              "\n",
              "  <div id=\"id_9d18aef4-fd32-4d94-b0f1-c0a6fea7ef3c\">\n",
              "    <style>\n",
              "      .colab-df-generate {\n",
              "        background-color: #E8F0FE;\n",
              "        border: none;\n",
              "        border-radius: 50%;\n",
              "        cursor: pointer;\n",
              "        display: none;\n",
              "        fill: #1967D2;\n",
              "        height: 32px;\n",
              "        padding: 0 0 0 0;\n",
              "        width: 32px;\n",
              "      }\n",
              "\n",
              "      .colab-df-generate:hover {\n",
              "        background-color: #E2EBFA;\n",
              "        box-shadow: 0px 1px 2px rgba(60, 64, 67, 0.3), 0px 1px 3px 1px rgba(60, 64, 67, 0.15);\n",
              "        fill: #174EA6;\n",
              "      }\n",
              "\n",
              "      [theme=dark] .colab-df-generate {\n",
              "        background-color: #3B4455;\n",
              "        fill: #D2E3FC;\n",
              "      }\n",
              "\n",
              "      [theme=dark] .colab-df-generate:hover {\n",
              "        background-color: #434B5C;\n",
              "        box-shadow: 0px 1px 3px 1px rgba(0, 0, 0, 0.15);\n",
              "        filter: drop-shadow(0px 1px 2px rgba(0, 0, 0, 0.3));\n",
              "        fill: #FFFFFF;\n",
              "      }\n",
              "    </style>\n",
              "    <button class=\"colab-df-generate\" onclick=\"generateWithVariable('dataframe')\"\n",
              "            title=\"Generate code using this dataframe.\"\n",
              "            style=\"display:none;\">\n",
              "\n",
              "  <svg xmlns=\"http://www.w3.org/2000/svg\" height=\"24px\"viewBox=\"0 0 24 24\"\n",
              "       width=\"24px\">\n",
              "    <path d=\"M7,19H8.4L18.45,9,17,7.55,7,17.6ZM5,21V16.75L18.45,3.32a2,2,0,0,1,2.83,0l1.4,1.43a1.91,1.91,0,0,1,.58,1.4,1.91,1.91,0,0,1-.58,1.4L9.25,21ZM18.45,9,17,7.55Zm-12,3A5.31,5.31,0,0,0,4.9,8.1,5.31,5.31,0,0,0,1,6.5,5.31,5.31,0,0,0,4.9,4.9,5.31,5.31,0,0,0,6.5,1,5.31,5.31,0,0,0,8.1,4.9,5.31,5.31,0,0,0,12,6.5,5.46,5.46,0,0,0,6.5,12Z\"/>\n",
              "  </svg>\n",
              "    </button>\n",
              "    <script>\n",
              "      (() => {\n",
              "      const buttonEl =\n",
              "        document.querySelector('#id_9d18aef4-fd32-4d94-b0f1-c0a6fea7ef3c button.colab-df-generate');\n",
              "      buttonEl.style.display =\n",
              "        google.colab.kernel.accessAllowed ? 'block' : 'none';\n",
              "\n",
              "      buttonEl.onclick = () => {\n",
              "        google.colab.notebook.generateWithVariable('dataframe');\n",
              "      }\n",
              "      })();\n",
              "    </script>\n",
              "  </div>\n",
              "\n",
              "    </div>\n",
              "  </div>\n"
            ],
            "application/vnd.google.colaboratory.intrinsic+json": {
              "type": "dataframe",
              "variable_name": "dataframe",
              "repr_error": "0"
            }
          },
          "metadata": {},
          "execution_count": 55
        }
      ]
    },
    {
      "cell_type": "code",
      "source": [
        "dataframe['Date_reported'] = pd.to_datetime(dataframe['Date_reported'])\n",
        "dataframe.info()"
      ],
      "metadata": {
        "colab": {
          "base_uri": "https://localhost:8080/"
        },
        "id": "CcnnqbROd1Sh",
        "outputId": "38c65e45-7c0a-4cd3-f5e7-45705743d96f"
      },
      "execution_count": 56,
      "outputs": [
        {
          "output_type": "stream",
          "name": "stdout",
          "text": [
            "<class 'pandas.core.frame.DataFrame'>\n",
            "Index: 298 entries, 29802 to 32187\n",
            "Data columns (total 8 columns):\n",
            " #   Column             Non-Null Count  Dtype         \n",
            "---  ------             --------------  -----         \n",
            " 0   Date_reported      298 non-null    datetime64[ns]\n",
            " 1   Country_code       298 non-null    object        \n",
            " 2   Country            298 non-null    object        \n",
            " 3   WHO_region         298 non-null    object        \n",
            " 4   New_cases          270 non-null    float64       \n",
            " 5   Cumulative_cases   298 non-null    int64         \n",
            " 6   New_deaths         219 non-null    float64       \n",
            " 7   Cumulative_deaths  298 non-null    int64         \n",
            "dtypes: datetime64[ns](1), float64(2), int64(2), object(3)\n",
            "memory usage: 29.1+ KB\n"
          ]
        }
      ]
    },
    {
      "cell_type": "markdown",
      "source": [
        "## Visualisasi Data"
      ],
      "metadata": {
        "id": "ZZf9bdIoX-Dg"
      }
    },
    {
      "cell_type": "code",
      "source": [
        "fig, ax = plt.subplots(figsize=(12,6))\n",
        "ax.plot(dataframe['Date_reported'], dataframe['Cumulative_cases'], label='Kasus Kumulatif')\n",
        "ax.plot(dataframe['Date_reported'], dataframe['Cumulative_deaths'], label='Kematian Kumulatif')\n",
        "plt.ticklabel_format(style='plain', axis='y')\n",
        "plt.tight_layout()\n",
        "plt.legend()\n",
        "plt.show()"
      ],
      "metadata": {
        "colab": {
          "base_uri": "https://localhost:8080/",
          "height": 574
        },
        "id": "sQxYaqk0Yjw5",
        "outputId": "8560d1f5-23b8-4874-febb-e2e2511782cd"
      },
      "execution_count": 57,
      "outputs": [
        {
          "output_type": "display_data",
          "data": {
            "text/plain": [
              "<Figure size 1200x600 with 1 Axes>"
            ],
            "image/png": "[encoded data removed]"
          },
          "metadata": {}
        }
      ]
    },
    {
      "cell_type": "code",
      "source": [
        "dataframe['Date_reported'] = pd.to_datetime(dataframe['Date_reported'])\n",
        "dataframe['BulanTahun'] = dataframe['Date_reported'].dt.to_period('M')\n",
        "\n",
        "per_bulan = dataframe.groupby('BulanTahun').last()\n",
        "\n",
        "summary = \"Rangkuman Kasus dan Kematian Kumulatif COVID-19 Indonesia per Bulan:\\n\\n\"\n",
        "summary += f\"{'Bulan':<10} {'Kasus Kumulatif':>20} {'Kematian Kumulatif':>22}\\n\"\n",
        "summary += \"-\"*58 + \"\\n\"\n",
        "\n",
        "for bulan, row in per_bulan.iterrows():\n",
        "    summary += f\"{str(bulan):<10} {int(row['Cumulative_cases']):>20,} {int(row['Cumulative_deaths']):>22,}\\n\"\n",
        "\n",
        "print(summary)\n"
      ],
      "metadata": {
        "colab": {
          "base_uri": "https://localhost:8080/"
        },
        "id": "wmufWD6SYNXK",
        "outputId": "726d69e9-3769-41b8-88f3-20bdc0c4def5"
      },
      "execution_count": 58,
      "outputs": [
        {
          "output_type": "stream",
          "name": "stdout",
          "text": [
            "Rangkuman Kasus dan Kematian Kumulatif COVID-19 Indonesia per Bulan:\n",
            "\n",
            "Bulan           Kasus Kumulatif     Kematian Kumulatif\n",
            "----------------------------------------------------------\n",
            "2020-01                       0                      0\n",
            "2020-02                       0                      0\n",
            "2020-03                   1,285                    114\n",
            "2020-04                   8,882                    743\n",
            "2020-05                  26,473                  1,613\n",
            "2020-06                  54,010                  2,754\n",
            "2020-07                  98,778                  4,781\n",
            "2020-08                 172,053                  7,343\n",
            "2020-09                 275,213                 10,386\n",
            "2020-10                 389,712                 13,299\n",
            "2020-11                 534,266                 16,815\n",
            "2020-12                 713,365                 21,237\n",
            "2021-01               1,078,314                 29,998\n",
            "2021-02               1,334,634                 36,166\n",
            "2021-03               1,496,085                 40,449\n",
            "2021-04               1,641,194                 44,594\n",
            "2021-05               1,816,041                 50,404\n",
            "2021-06               2,115,304                 57,138\n",
            "2021-07               3,166,505                 83,279\n",
            "2021-08               4,073,831                131,923\n",
            "2021-09               4,208,013                141,467\n",
            "2021-10               4,244,358                143,405\n",
            "2021-11               4,255,936                143,808\n",
            "2021-12               4,261,759                144,055\n",
            "2022-01               4,343,185                144,303\n",
            "2022-02               5,539,394                148,073\n",
            "2022-03               5,998,953                154,670\n",
            "2022-04               6,044,150                156,100\n",
            "2022-05               6,054,415                156,574\n",
            "2022-06               6,080,451                156,717\n",
            "2022-07               6,207,098                156,993\n",
            "2022-08               6,346,304                157,500\n",
            "2022-09               6,422,529                158,014\n",
            "2022-10               6,490,622                158,597\n",
            "2022-11               6,650,244                159,676\n",
            "2022-12               6,716,124                160,537\n",
            "2023-01               6,729,573                160,803\n",
            "2023-02               6,735,628                160,908\n",
            "2023-03               6,744,033                160,994\n",
            "2023-04               6,774,721                161,284\n",
            "2023-05               6,806,288                161,739\n",
            "2023-06               6,811,780                161,865\n",
            "2023-07               6,812,966                161,914\n",
            "2023-08               6,813,301                161,918\n",
            "2023-09               6,813,429                161,918\n",
            "2023-10               6,813,429                161,918\n",
            "2023-11               6,813,429                161,918\n",
            "2023-12               6,821,770                161,972\n",
            "2024-01               6,827,669                162,045\n",
            "2024-02               6,828,367                162,050\n",
            "2024-03               6,828,942                162,056\n",
            "2024-04               6,828,969                162,058\n",
            "2024-05               6,829,029                162,058\n",
            "2024-06               6,829,219                162,058\n",
            "2024-07               6,829,353                162,059\n",
            "2024-08               6,829,528                162,059\n",
            "2024-09               6,829,610                162,059\n",
            "2024-10               6,829,704                162,059\n",
            "2024-11               6,829,885                162,059\n",
            "2024-12               6,830,109                162,059\n",
            "2025-01               6,830,190                162,059\n",
            "2025-02               6,830,218                162,059\n",
            "2025-03               6,830,228                162,059\n",
            "2025-04               6,830,243                162,059\n",
            "2025-05               6,830,274                162,059\n",
            "2025-06               6,830,274                162,059\n",
            "2025-07               6,830,274                162,059\n",
            "2025-08               6,830,274                162,059\n",
            "2025-09               6,830,274                162,059\n",
            "\n"
          ]
        }
      ]
    },
    {
      "cell_type": "markdown",
      "source": [
        "## Summarize Menggunakan Replicate IBM"
      ],
      "metadata": {
        "id": "Il6FdiOLepss"
      }
    },
    {
      "cell_type": "code",
      "source": [
        "# Set the API token\n",
        "api_token = userdata.get('api_token')\n",
        "os.environ[\"REPLICATE_API_TOKEN\"] = api_token\n",
        "\n",
        "# Model setup\n",
        "model = \"ibm-granite/granite-3.3-8b-instruct\"\n",
        "output = Replicate(\n",
        "model=model,\n",
        "replicate_api_token=api_token,\n",
        ")\n",
        "\n",
        "parameter = {\n",
        "\"top_k\": 10,\n",
        "\"top_p\": 0.9,\n",
        "\"max_tokens\": 256,\n",
        "\"min_tokens\": 0,\n",
        "\"random_seed\": None,\n",
        "\"repetition_penalty\": 1.5,\n",
        "\"stopping_sequence\": \"\\n\"\n",
        "}"
      ],
      "metadata": {
        "id": "gdjgtw0geurd"
      },
      "execution_count": 71,
      "outputs": []
    },
    {
      "cell_type": "code",
      "source": [
        "data = [summary]\n",
        "data"
      ],
      "metadata": {
        "colab": {
          "base_uri": "https://localhost:8080/"
        },
        "id": "yRv86W_EmR8g",
        "outputId": "c96151a1-119a-4554-f3f7-7aebb454ff66"
      },
      "execution_count": 62,
      "outputs": [
        {
          "output_type": "execute_result",
          "data": {
            "text/plain": [
              "['Rangkuman Kasus dan Kematian Kumulatif COVID-19 Indonesia per Bulan:\\n\\nBulan           Kasus Kumulatif     Kematian Kumulatif\\n----------------------------------------------------------\\n2020-01                       0                      0\\n2020-02                       0                      0\\n2020-03                   1,285                    114\\n2020-04                   8,882                    743\\n2020-05                  26,473                  1,613\\n2020-06                  54,010                  2,754\\n2020-07                  98,778                  4,781\\n2020-08                 172,053                  7,343\\n2020-09                 275,213                 10,386\\n2020-10                 389,712                 13,299\\n2020-11                 534,266                 16,815\\n2020-12                 713,365                 21,237\\n2021-01               1,078,314                 29,998\\n2021-02               1,334,634                 36,166\\n2021-03               1,496,085                 40,449\\n2021-04               1,641,194                 44,594\\n2021-05               1,816,041                 50,404\\n2021-06               2,115,304                 57,138\\n2021-07               3,166,505                 83,279\\n2021-08               4,073,831                131,923\\n2021-09               4,208,013                141,467\\n2021-10               4,244,358                143,405\\n2021-11               4,255,936                143,808\\n2021-12               4,261,759                144,055\\n2022-01               4,343,185                144,303\\n2022-02               5,539,394                148,073\\n2022-03               5,998,953                154,670\\n2022-04               6,044,150                156,100\\n2022-05               6,054,415                156,574\\n2022-06               6,080,451                156,717\\n2022-07               6,207,098                156,993\\n2022-08               6,346,304                157,500\\n2022-09               6,422,529                158,014\\n2022-10               6,490,622                158,597\\n2022-11               6,650,244                159,676\\n2022-12               6,716,124                160,537\\n2023-01               6,729,573                160,803\\n2023-02               6,735,628                160,908\\n2023-03               6,744,033                160,994\\n2023-04               6,774,721                161,284\\n2023-05               6,806,288                161,739\\n2023-06               6,811,780                161,865\\n2023-07               6,812,966                161,914\\n2023-08               6,813,301                161,918\\n2023-09               6,813,429                161,918\\n2023-10               6,813,429                161,918\\n2023-11               6,813,429                161,918\\n2023-12               6,821,770                161,972\\n2024-01               6,827,669                162,045\\n2024-02               6,828,367                162,050\\n2024-03               6,828,942                162,056\\n2024-04               6,828,969                162,058\\n2024-05               6,829,029                162,058\\n2024-06               6,829,219                162,058\\n2024-07               6,829,353                162,059\\n2024-08               6,829,528                162,059\\n2024-09               6,829,610                162,059\\n2024-10               6,829,704                162,059\\n2024-11               6,829,885                162,059\\n2024-12               6,830,109                162,059\\n2025-01               6,830,190                162,059\\n2025-02               6,830,218                162,059\\n2025-03               6,830,228                162,059\\n2025-04               6,830,243                162,059\\n2025-05               6,830,274                162,059\\n2025-06               6,830,274                162,059\\n2025-07               6,830,274                162,059\\n2025-08               6,830,274                162,059\\n2025-09               6,830,274                162,059\\n']"
            ]
          },
          "metadata": {},
          "execution_count": 62
        }
      ]
    },
    {
      "cell_type": "code",
      "source": [
        "# Refine the prompt to include reviews\n",
        "reviews_text = \"\\n\".join([f\"Review {i+1}: {review}\" for i, review\n",
        "in enumerate(data)])\n",
        "\n",
        "summarize = f\"\"\"\n",
        "Summarize this data into 5 bullet point\n",
        "{reviews_text}\n",
        "\"\"\"\n",
        "\n",
        "# Invoke the model with example prompt\n",
        "response = output.invoke(summarize, parameters=parameter)\n",
        "# Print the response\n",
        "print(\"Granite Model Response:\\n\")\n",
        "print(response)"
      ],
      "metadata": {
        "colab": {
          "base_uri": "https://localhost:8080/"
        },
        "id": "YApw0kijhuMI",
        "outputId": "84472023-8c71-4fd8-f758-5887edcc2a74"
      },
      "execution_count": 72,
      "outputs": [
        {
          "output_type": "stream",
          "name": "stdout",
          "text": [
            "Granite Model Response:\n",
            "\n",
            "- The data represents cumulative COVID-19 cases and deaths in Indonesia, updated monthly from January 2020 to September 2025.\n",
            "- In January 2020, there were 0 cumulative cases and 0 deaths; by December 2020, these numbers had risen to 713,365 cases and 21,237 deaths.\n",
            "- Throughout 2020, both cases and deaths saw significant increases, with the most deaths reported in September (10,386) and the most cases in December (534,266).\n",
            "- Cumulative cases continued to rise steadily through 2021 and 2022, with a notable surge in cases from 2021-01 onwards.\n",
            "- Deaths followed a similar upward trend, with the highest number of deaths reported in 2021-09 (141,467) and a gradual increase thereafter.\n",
            "\n",
            "*Note: The data provided extends beyond the current date (October 2023) up to September 2025, which is an impossibility given our current timeline.*\n"
          ]
        }
      ]
    },
    {
      "cell_type": "code",
      "source": [
        "analyze = f\"\"\"\n",
        "Analyze (In Month) When :\n",
        "percentage increase in cases that occurred, percentage increase in death that occurred,\n",
        "Month that there is no increase in cases that occurred, and Month that there is no increase in death that occurred.\n",
        "Include only one concise bullet points under each heading.\n",
        "{reviews_text}\n",
        "\"\"\"\n",
        "\n",
        "# Invoke the model with example prompt\n",
        "response = output.invoke(analyze, parameters=parameter)\n",
        "# Print the response\n",
        "print(\"Granite Model Response:\\n\")\n",
        "print(response)"
      ],
      "metadata": {
        "colab": {
          "base_uri": "https://localhost:8080/"
        },
        "id": "zKzBb0ldngek",
        "outputId": "349a93f3-fcb1-491e-bbce-c29290e5539b"
      },
      "execution_count": 94,
      "outputs": [
        {
          "output_type": "stream",
          "name": "stdout",
          "text": [
            "Granite Model Response:\n",
            "\n",
            "- **Percentage Increase in Cases**: \n",
            "  - Highest increase observed from 2020-03 to 2020-04, with cases rising from 1,285 to 8,882 (approximately 590% increase).\n",
            "\n",
            "- **Percentage Increase in Deaths**: \n",
            "  - Highest increase noted from 2020-04 to 2020-05, with deaths surging from 743 to 1,613 (approximately 115% increase).\n",
            "\n",
            "- **Month with No Increase in Cases**:\n",
            "  - No month from 2020-03 onwards shows zero increase in cumulative cases, as the numbers consistently rise.\n",
            "\n",
            "- **Month with No Increase in Deaths**:\n",
            "  - Similarly, no month from 2020-04 onwards shows zero increase in cumulative deaths, as fatalities also steadily rise.\n"
          ]
        }
      ]
    },
    {
      "cell_type": "code",
      "source": [],
      "metadata": {
        "id": "Us-kJKzjvETq"
      },
      "execution_count": null,
      "outputs": []
    }
  ]
}